{
 "cells": [
  {
   "cell_type": "code",
   "execution_count": 1,
   "metadata": {
    "collapsed": true
   },
   "outputs": [],
   "source": [
    "import numpy as np\n",
    "import pandas as pd\n",
    "import matplotlib.pyplot as plt"
   ]
  },
  {
   "cell_type": "code",
   "execution_count": 2,
   "metadata": {
    "collapsed": true
   },
   "outputs": [],
   "source": [
    "from sklearn.model_selection import train_test_split\n",
    "from sklearn.preprocessing import normalize\n",
    "from sklearn.metrics import accuracy_score \n",
    "from sklearn.utils import class_weight"
   ]
  },
  {
   "cell_type": "code",
   "execution_count": 3,
   "metadata": {
    "collapsed": true
   },
   "outputs": [],
   "source": [
    "import re\n",
    "from nltk.corpus import stopwords\n",
    "from nltk.stem import SnowballStemmer\n",
    "import fasttext"
   ]
  },
  {
   "cell_type": "code",
   "execution_count": 4,
   "metadata": {},
   "outputs": [],
   "source": [
    "from tensorflow.python import keras\n",
    "from tensorflow.python.keras.models import Sequential, Model\n",
    "from tensorflow.python.keras.layers import Dense, Dropout, GlobalMaxPool1D\n",
    "from tensorflow.python.keras.layers import BatchNormalization, Flatten, Conv1D\n",
    "from tensorflow.python.keras.callbacks import EarlyStopping, ModelCheckpoint\n",
    "from tensorflow.python.keras.models import load_model"
   ]
  },
  {
   "cell_type": "code",
   "execution_count": 5,
   "metadata": {
    "collapsed": true
   },
   "outputs": [],
   "source": [
    "seed = 7\n",
    "np.random.seed(seed)"
   ]
  },
  {
   "cell_type": "markdown",
   "metadata": {},
   "source": [
    "## Explore the data-set"
   ]
  },
  {
   "cell_type": "code",
   "execution_count": 6,
   "metadata": {
    "collapsed": true
   },
   "outputs": [],
   "source": [
    "df = pd.read_csv('question_answer_pairs.csv')"
   ]
  },
  {
   "cell_type": "code",
   "execution_count": 7,
   "metadata": {},
   "outputs": [
    {
     "data": {
      "text/html": [
       "<div>\n",
       "<style scoped>\n",
       "    .dataframe tbody tr th:only-of-type {\n",
       "        vertical-align: middle;\n",
       "    }\n",
       "\n",
       "    .dataframe tbody tr th {\n",
       "        vertical-align: top;\n",
       "    }\n",
       "\n",
       "    .dataframe thead th {\n",
       "        text-align: right;\n",
       "    }\n",
       "</style>\n",
       "<table border=\"1\" class=\"dataframe\">\n",
       "  <thead>\n",
       "    <tr style=\"text-align: right;\">\n",
       "      <th></th>\n",
       "      <th>ArticleTitle</th>\n",
       "      <th>Question</th>\n",
       "      <th>Answer</th>\n",
       "      <th>DifficultyFromQuestioner</th>\n",
       "      <th>DifficultyFromAnswerer</th>\n",
       "      <th>ArticleFile</th>\n",
       "    </tr>\n",
       "  </thead>\n",
       "  <tbody>\n",
       "    <tr>\n",
       "      <th>0</th>\n",
       "      <td>Alessandro_Volta</td>\n",
       "      <td>Was Alessandro Volta a professor of chemistry?</td>\n",
       "      <td>Alessandro Volta was not a professor of chemis...</td>\n",
       "      <td>easy</td>\n",
       "      <td>easy</td>\n",
       "      <td>data/set4/a10</td>\n",
       "    </tr>\n",
       "    <tr>\n",
       "      <th>1</th>\n",
       "      <td>Alessandro_Volta</td>\n",
       "      <td>Was Alessandro Volta a professor of chemistry?</td>\n",
       "      <td>No</td>\n",
       "      <td>easy</td>\n",
       "      <td>hard</td>\n",
       "      <td>data/set4/a10</td>\n",
       "    </tr>\n",
       "    <tr>\n",
       "      <th>2</th>\n",
       "      <td>Alessandro_Volta</td>\n",
       "      <td>Did Alessandro Volta invent the remotely opera...</td>\n",
       "      <td>Alessandro Volta did invent the remotely opera...</td>\n",
       "      <td>easy</td>\n",
       "      <td>easy</td>\n",
       "      <td>data/set4/a10</td>\n",
       "    </tr>\n",
       "    <tr>\n",
       "      <th>3</th>\n",
       "      <td>Alessandro_Volta</td>\n",
       "      <td>Did Alessandro Volta invent the remotely opera...</td>\n",
       "      <td>Yes</td>\n",
       "      <td>easy</td>\n",
       "      <td>easy</td>\n",
       "      <td>data/set4/a10</td>\n",
       "    </tr>\n",
       "    <tr>\n",
       "      <th>4</th>\n",
       "      <td>Alessandro_Volta</td>\n",
       "      <td>Was Alessandro Volta taught in public schools?</td>\n",
       "      <td>Volta was taught in public schools.</td>\n",
       "      <td>easy</td>\n",
       "      <td>easy</td>\n",
       "      <td>data/set4/a10</td>\n",
       "    </tr>\n",
       "  </tbody>\n",
       "</table>\n",
       "</div>"
      ],
      "text/plain": [
       "       ArticleTitle                                           Question  \\\n",
       "0  Alessandro_Volta     Was Alessandro Volta a professor of chemistry?   \n",
       "1  Alessandro_Volta     Was Alessandro Volta a professor of chemistry?   \n",
       "2  Alessandro_Volta  Did Alessandro Volta invent the remotely opera...   \n",
       "3  Alessandro_Volta  Did Alessandro Volta invent the remotely opera...   \n",
       "4  Alessandro_Volta     Was Alessandro Volta taught in public schools?   \n",
       "\n",
       "                                              Answer DifficultyFromQuestioner  \\\n",
       "0  Alessandro Volta was not a professor of chemis...                     easy   \n",
       "1                                                 No                     easy   \n",
       "2  Alessandro Volta did invent the remotely opera...                     easy   \n",
       "3                                                Yes                     easy   \n",
       "4                Volta was taught in public schools.                     easy   \n",
       "\n",
       "  DifficultyFromAnswerer    ArticleFile  \n",
       "0                   easy  data/set4/a10  \n",
       "1                   hard  data/set4/a10  \n",
       "2                   easy  data/set4/a10  \n",
       "3                   easy  data/set4/a10  \n",
       "4                   easy  data/set4/a10  "
      ]
     },
     "execution_count": 7,
     "metadata": {},
     "output_type": "execute_result"
    }
   ],
   "source": [
    "df.head()"
   ]
  },
  {
   "cell_type": "code",
   "execution_count": 8,
   "metadata": {},
   "outputs": [
    {
     "data": {
      "text/plain": [
       "(1458, 6)"
      ]
     },
     "execution_count": 8,
     "metadata": {},
     "output_type": "execute_result"
    }
   ],
   "source": [
    "df.shape"
   ]
  },
  {
   "cell_type": "code",
   "execution_count": 9,
   "metadata": {},
   "outputs": [
    {
     "data": {
      "text/plain": [
       "(832, 6)"
      ]
     },
     "execution_count": 9,
     "metadata": {},
     "output_type": "execute_result"
    }
   ],
   "source": [
    "df = df.drop_duplicates(subset='Question')\\\n",
    "    .reset_index(drop=True)\n",
    "    \n",
    "df.shape"
   ]
  },
  {
   "cell_type": "code",
   "execution_count": 10,
   "metadata": {},
   "outputs": [
    {
     "data": {
      "text/plain": [
       "Trumpet                        27\n",
       "San_Francisco                  27\n",
       "Alessandro_Volta               27\n",
       "Ant                            26\n",
       "Jakarta                        26\n",
       "Malay_language                 24\n",
       "Drum                           23\n",
       "Korean_language                23\n",
       "Charles-Augustin_de_Coulomb    20\n",
       "Violin                         19\n",
       "Giant_Panda                    18\n",
       "Kuala_Lumpur                   18\n",
       "Guitar                         18\n",
       "Amedeo_Avogadro                18\n",
       "Xylophone                      18\n",
       "Nikola_Tesla                   18\n",
       "James_Watt                     18\n",
       "Michael_Faraday                18\n",
       "Berlin                         18\n",
       "Chinese_language               18\n",
       "Montreal                       18\n",
       "Turkish_language               18\n",
       "Vietnamese_language            18\n",
       "Piano                          17\n",
       "Nairobi                        17\n",
       "Saint_Petersburg               17\n",
       "Isaac_Newton                   17\n",
       "Arabic_language                17\n",
       "Flute                          17\n",
       "Octopus                        16\n",
       "Blaise_Pascal                  16\n",
       "Portuguese_language            15\n",
       "Dragonfly                      12\n",
       "Leonardo_da_Vinci              10\n",
       "Norman_Rockwell                10\n",
       "Pablo_Picasso                  10\n",
       "Zebra                           9\n",
       "Cymbal                          9\n",
       "Finnish_language                9\n",
       "Jackson_Pollock                 9\n",
       "Antwerp                         9\n",
       "Lyre                            9\n",
       "Taipei                          9\n",
       "Cougar                          9\n",
       "Lobster                         9\n",
       "Henri_Becquerel                 9\n",
       "Butterfly                       9\n",
       "Eel                             9\n",
       "Swahili_language                9\n",
       "Melbourne                       9\n",
       "Pierre-Auguste_Renoir           8\n",
       "Swedish_language                8\n",
       "Koala                           8\n",
       "Michelangelo                    7\n",
       "Vincent_van_Gogh                7\n",
       "Cello                           1\n",
       "Name: ArticleTitle, dtype: int64"
      ]
     },
     "execution_count": 10,
     "metadata": {},
     "output_type": "execute_result"
    }
   ],
   "source": [
    "df['ArticleTitle'].value_counts()"
   ]
  },
  {
   "cell_type": "code",
   "execution_count": 11,
   "metadata": {},
   "outputs": [
    {
     "data": {
      "text/plain": [
       "(56,)"
      ]
     },
     "execution_count": 11,
     "metadata": {},
     "output_type": "execute_result"
    }
   ],
   "source": [
    "unique_titles = df['ArticleTitle'].unique()\n",
    "unique_titles.shape"
   ]
  },
  {
   "cell_type": "markdown",
   "metadata": {},
   "source": [
    "## Create lables"
   ]
  },
  {
   "cell_type": "code",
   "execution_count": 12,
   "metadata": {
    "collapsed": true
   },
   "outputs": [],
   "source": [
    "label_map = {key:value for value,key in enumerate(unique_titles)}"
   ]
  },
  {
   "cell_type": "code",
   "execution_count": 13,
   "metadata": {},
   "outputs": [
    {
     "data": {
      "text/plain": [
       "{'Alessandro_Volta': 0,\n",
       " 'Amedeo_Avogadro': 1,\n",
       " 'Ant': 2,\n",
       " 'Antwerp': 3,\n",
       " 'Arabic_language': 4,\n",
       " 'Berlin': 5,\n",
       " 'Blaise_Pascal': 6,\n",
       " 'Butterfly': 7,\n",
       " 'Cello': 8,\n",
       " 'Charles-Augustin_de_Coulomb': 9,\n",
       " 'Chinese_language': 10,\n",
       " 'Cougar': 11,\n",
       " 'Cymbal': 12,\n",
       " 'Dragonfly': 13,\n",
       " 'Drum': 14,\n",
       " 'Eel': 15,\n",
       " 'Finnish_language': 16,\n",
       " 'Flute': 17,\n",
       " 'Giant_Panda': 18,\n",
       " 'Guitar': 19,\n",
       " 'Henri_Becquerel': 20,\n",
       " 'Isaac_Newton': 21,\n",
       " 'Jackson_Pollock': 22,\n",
       " 'Jakarta': 23,\n",
       " 'James_Watt': 24,\n",
       " 'Koala': 25,\n",
       " 'Korean_language': 26,\n",
       " 'Kuala_Lumpur': 27,\n",
       " 'Leonardo_da_Vinci': 28,\n",
       " 'Lobster': 29,\n",
       " 'Lyre': 30,\n",
       " 'Malay_language': 31,\n",
       " 'Melbourne': 32,\n",
       " 'Michael_Faraday': 33,\n",
       " 'Michelangelo': 34,\n",
       " 'Montreal': 35,\n",
       " 'Nairobi': 36,\n",
       " 'Nikola_Tesla': 37,\n",
       " 'Norman_Rockwell': 38,\n",
       " 'Octopus': 39,\n",
       " 'Pablo_Picasso': 40,\n",
       " 'Piano': 41,\n",
       " 'Pierre-Auguste_Renoir': 42,\n",
       " 'Portuguese_language': 43,\n",
       " 'Saint_Petersburg': 44,\n",
       " 'San_Francisco': 45,\n",
       " 'Swahili_language': 46,\n",
       " 'Swedish_language': 47,\n",
       " 'Taipei': 48,\n",
       " 'Trumpet': 49,\n",
       " 'Turkish_language': 50,\n",
       " 'Vietnamese_language': 51,\n",
       " 'Vincent_van_Gogh': 52,\n",
       " 'Violin': 53,\n",
       " 'Xylophone': 54,\n",
       " 'Zebra': 55}"
      ]
     },
     "execution_count": 13,
     "metadata": {},
     "output_type": "execute_result"
    }
   ],
   "source": [
    "label_map"
   ]
  },
  {
   "cell_type": "code",
   "execution_count": 14,
   "metadata": {
    "collapsed": true
   },
   "outputs": [],
   "source": [
    "df['label'] = df['ArticleTitle'].map(label_map)"
   ]
  },
  {
   "cell_type": "code",
   "execution_count": 15,
   "metadata": {
    "scrolled": true
   },
   "outputs": [
    {
     "data": {
      "text/html": [
       "<div>\n",
       "<style scoped>\n",
       "    .dataframe tbody tr th:only-of-type {\n",
       "        vertical-align: middle;\n",
       "    }\n",
       "\n",
       "    .dataframe tbody tr th {\n",
       "        vertical-align: top;\n",
       "    }\n",
       "\n",
       "    .dataframe thead th {\n",
       "        text-align: right;\n",
       "    }\n",
       "</style>\n",
       "<table border=\"1\" class=\"dataframe\">\n",
       "  <thead>\n",
       "    <tr style=\"text-align: right;\">\n",
       "      <th></th>\n",
       "      <th>ArticleTitle</th>\n",
       "      <th>Question</th>\n",
       "      <th>Answer</th>\n",
       "      <th>DifficultyFromQuestioner</th>\n",
       "      <th>DifficultyFromAnswerer</th>\n",
       "      <th>ArticleFile</th>\n",
       "      <th>label</th>\n",
       "    </tr>\n",
       "  </thead>\n",
       "  <tbody>\n",
       "    <tr>\n",
       "      <th>790</th>\n",
       "      <td>Violin</td>\n",
       "      <td>What is a violin called informally?</td>\n",
       "      <td>Fiddle</td>\n",
       "      <td>medium</td>\n",
       "      <td>medium</td>\n",
       "      <td>data/set2/a2</td>\n",
       "      <td>53</td>\n",
       "    </tr>\n",
       "    <tr>\n",
       "      <th>689</th>\n",
       "      <td>San_Francisco</td>\n",
       "      <td>In what year did the Spanish establish a fort ...</td>\n",
       "      <td>In 1776, the Spanish established a fort at the...</td>\n",
       "      <td>NaN</td>\n",
       "      <td>medium</td>\n",
       "      <td>data/set3/a8</td>\n",
       "      <td>45</td>\n",
       "    </tr>\n",
       "    <tr>\n",
       "      <th>134</th>\n",
       "      <td>Butterfly</td>\n",
       "      <td>What is the outer layer of the cuticle made of?</td>\n",
       "      <td>The outer layer of the cuticle is made of of a...</td>\n",
       "      <td>medium</td>\n",
       "      <td>easy</td>\n",
       "      <td>data/set1/a6</td>\n",
       "      <td>7</td>\n",
       "    </tr>\n",
       "    <tr>\n",
       "      <th>351</th>\n",
       "      <td>Jakarta</td>\n",
       "      <td>Who created Monas Park</td>\n",
       "      <td>General Herman Willem Deandels</td>\n",
       "      <td>medium</td>\n",
       "      <td>medium</td>\n",
       "      <td>data/set3/a5</td>\n",
       "      <td>23</td>\n",
       "    </tr>\n",
       "    <tr>\n",
       "      <th>510</th>\n",
       "      <td>Michelangelo</td>\n",
       "      <td>Wasn't Michelangelo abstemious?</td>\n",
       "      <td>Michelangelo was abstemious.</td>\n",
       "      <td>NaN</td>\n",
       "      <td>medium</td>\n",
       "      <td>data/set6/a2</td>\n",
       "      <td>34</td>\n",
       "    </tr>\n",
       "  </tbody>\n",
       "</table>\n",
       "</div>"
      ],
      "text/plain": [
       "      ArticleTitle                                           Question  \\\n",
       "790         Violin                What is a violin called informally?   \n",
       "689  San_Francisco  In what year did the Spanish establish a fort ...   \n",
       "134      Butterfly    What is the outer layer of the cuticle made of?   \n",
       "351        Jakarta                             Who created Monas Park   \n",
       "510   Michelangelo                    Wasn't Michelangelo abstemious?   \n",
       "\n",
       "                                                Answer  \\\n",
       "790                                             Fiddle   \n",
       "689  In 1776, the Spanish established a fort at the...   \n",
       "134  The outer layer of the cuticle is made of of a...   \n",
       "351                     General Herman Willem Deandels   \n",
       "510                       Michelangelo was abstemious.   \n",
       "\n",
       "    DifficultyFromQuestioner DifficultyFromAnswerer   ArticleFile  label  \n",
       "790                   medium                 medium  data/set2/a2     53  \n",
       "689                      NaN                 medium  data/set3/a8     45  \n",
       "134                   medium                   easy  data/set1/a6      7  \n",
       "351                   medium                 medium  data/set3/a5     23  \n",
       "510                      NaN                 medium  data/set6/a2     34  "
      ]
     },
     "execution_count": 15,
     "metadata": {},
     "output_type": "execute_result"
    }
   ],
   "source": [
    "df.sample(5)"
   ]
  },
  {
   "cell_type": "code",
   "execution_count": 16,
   "metadata": {},
   "outputs": [
    {
     "data": {
      "image/png": "[encoded data removed]",
      "text/plain": [
       "<matplotlib.figure.Figure at 0x1189c8f50>"
      ]
     },
     "metadata": {},
     "output_type": "display_data"
    }
   ],
   "source": [
    "plt.hist(df['label'], bins=np.linspace(-0.5,55.5,57), color='blue', ec='black')\n",
    "plt.xlabel('label', fontsize=14)\n",
    "plt.ylabel('number of articles', fontsize=14)\n",
    "plt.xticks([0, 10, 20, 30, 40, 50])\n",
    "plt.show()"
   ]
  },
  {
   "cell_type": "markdown",
   "metadata": {},
   "source": [
    "## Splitting into Train / Val / Test Sets"
   ]
  },
  {
   "cell_type": "code",
   "execution_count": 17,
   "metadata": {
    "collapsed": true
   },
   "outputs": [],
   "source": [
    "x_train, x_val, y_train, y_val = train_test_split(df['Question'], \n",
    "                                                  df['label'], \n",
    "                                                  test_size=0.2)\n",
    "                                                  #stratify=df['label'])"
   ]
  },
  {
   "cell_type": "code",
   "execution_count": 18,
   "metadata": {
    "collapsed": true
   },
   "outputs": [],
   "source": [
    "x_val, x_test, y_val, y_test = train_test_split(x_val,\n",
    "                                                y_val, \n",
    "                                                test_size=0.5)\n",
    "                                                #stratify=y_val)"
   ]
  },
  {
   "cell_type": "markdown",
   "metadata": {},
   "source": [
    "## Clean text"
   ]
  },
  {
   "cell_type": "code",
   "execution_count": 19,
   "metadata": {
    "collapsed": true
   },
   "outputs": [],
   "source": [
    "#stops = set(stopwords.words(\"english\"))\n",
    "#stemmer = SnowballStemmer('english')\n",
    "\n",
    "def clean_text(text):\n",
    "    text = str(text) #to string\n",
    "    text = re.sub(re.compile('<.*?>'), '', text) # remove html\n",
    "    text = re.sub('http\\S+', ' ', text) # remove urls\n",
    "    text = text.lower() # make lowercase\n",
    "    text = text.replace('á', 'a').replace('à', 'a')\n",
    "    text = text.replace('é', 'e').replace('è', 'e')\n",
    "    text = text.replace('í', 'i').replace('ì', 'i')\n",
    "    text = text.replace('ó', 'o').replace('ò', 'o')\n",
    "    text = text.replace('ú', 'u').replace('ù', 'u')\n",
    "    text = re.sub('[^a-z]+', ' ', text) # remove non-characters\n",
    "    text = re.sub(' +', ' ', text) # remove multiple spaces\n",
    "    #text = [w for w in text.split() if not w in stops] # remove stop words\n",
    "    #text = [stemmer.stem(word) for word in text] # stemming\n",
    "    #text = \" \".join(text).encode('utf-8')\n",
    "    return text.strip()"
   ]
  },
  {
   "cell_type": "code",
   "execution_count": 20,
   "metadata": {},
   "outputs": [
    {
     "data": {
      "text/plain": [
       "'installing the game was a struggle because of some reasons'"
      ]
     },
     "execution_count": 20,
     "metadata": {},
     "output_type": "execute_result"
    }
   ],
   "source": [
    "clean_text('<p>Installing<p> the game was a   '+ \n",
    "            'struggle (because of... 1 2 3   ??'+ \n",
    "            'https://translate.google.co.uk/ some reasons')"
   ]
  },
  {
   "cell_type": "code",
   "execution_count": 21,
   "metadata": {
    "collapsed": true
   },
   "outputs": [],
   "source": [
    "x_train = x_train.apply(clean_text)\n",
    "x_val = x_val.apply(clean_text)\n",
    "x_test = x_test.apply(clean_text)"
   ]
  },
  {
   "cell_type": "markdown",
   "metadata": {},
   "source": [
    "## Vectorization with fasttext"
   ]
  },
  {
   "cell_type": "code",
   "execution_count": 22,
   "metadata": {
    "collapsed": true
   },
   "outputs": [],
   "source": [
    "fasttext_model = fasttext\\\n",
    "    .load_model('../fasttext-en.bin')"
   ]
  },
  {
   "cell_type": "code",
   "execution_count": 23,
   "metadata": {},
   "outputs": [
    {
     "data": {
      "text/plain": [
       "(100,)"
      ]
     },
     "execution_count": 23,
     "metadata": {},
     "output_type": "execute_result"
    }
   ],
   "source": [
    "vector = np.array(fasttext_model['hello'])\n",
    "vector.shape"
   ]
  },
  {
   "cell_type": "code",
   "execution_count": 24,
   "metadata": {
    "collapsed": true
   },
   "outputs": [],
   "source": [
    "embedding_dim = 100\n",
    "max_sequence_length = 50"
   ]
  },
  {
   "cell_type": "code",
   "execution_count": 25,
   "metadata": {
    "collapsed": true
   },
   "outputs": [],
   "source": [
    "def create_sequences(x):\n",
    "    sequences = np.zeros((len(x), max_sequence_length, embedding_dim), dtype=np.float32)\n",
    "    for i,text in enumerate(x.values):\n",
    "        words = text.split()\n",
    "        seq_length = len(words)\n",
    "        if len(words) > max_sequence_length:\n",
    "            seq_length = max_sequence_length\n",
    "        if words:\n",
    "            sequences[i][:seq_length] = [fasttext_model[w] for w in words][:seq_length]\n",
    "    return sequences"
   ]
  },
  {
   "cell_type": "code",
   "execution_count": 26,
   "metadata": {},
   "outputs": [
    {
     "data": {
      "text/plain": [
       "(665, 50, 100)"
      ]
     },
     "execution_count": 26,
     "metadata": {},
     "output_type": "execute_result"
    }
   ],
   "source": [
    "train_sequences = create_sequences(x_train)\n",
    "train_sequences.shape"
   ]
  },
  {
   "cell_type": "code",
   "execution_count": 27,
   "metadata": {},
   "outputs": [
    {
     "data": {
      "text/plain": [
       "(84, 50, 100)"
      ]
     },
     "execution_count": 27,
     "metadata": {},
     "output_type": "execute_result"
    }
   ],
   "source": [
    "test_sequences = create_sequences(x_test)\n",
    "test_sequences.shape"
   ]
  },
  {
   "cell_type": "code",
   "execution_count": 28,
   "metadata": {},
   "outputs": [
    {
     "data": {
      "text/plain": [
       "(83, 50, 100)"
      ]
     },
     "execution_count": 28,
     "metadata": {},
     "output_type": "execute_result"
    }
   ],
   "source": [
    "val_sequences = create_sequences(x_val)\n",
    "val_sequences.shape"
   ]
  },
  {
   "cell_type": "markdown",
   "metadata": {},
   "source": [
    "## The model"
   ]
  },
  {
   "cell_type": "code",
   "execution_count": 29,
   "metadata": {
    "collapsed": true
   },
   "outputs": [],
   "source": [
    "C = len(unique_titles)\n",
    "\n",
    "model = Sequential()\n",
    "#model.add(Dense(100, activation='relu', input_shape=(max_sequence_length, embedding_dim,)))\n",
    "model.add(Conv1D(filters=100, kernel_size=1, activation='relu', input_shape=(max_sequence_length, embedding_dim,)))\n",
    "model.add(GlobalMaxPool1D(name='vectorizer'))\n",
    "model.add(BatchNormalization())\n",
    "model.add(Dense(C, activation='softmax'))"
   ]
  },
  {
   "cell_type": "code",
   "execution_count": 30,
   "metadata": {
    "collapsed": true
   },
   "outputs": [],
   "source": [
    "model.compile(loss='categorical_crossentropy', \n",
    "              optimizer='Adam', metrics=['accuracy'])"
   ]
  },
  {
   "cell_type": "code",
   "execution_count": 31,
   "metadata": {},
   "outputs": [
    {
     "name": "stdout",
     "output_type": "stream",
     "text": [
      "_________________________________________________________________\n",
      "Layer (type)                 Output Shape              Param #   \n",
      "=================================================================\n",
      "conv1d (Conv1D)              (None, 50, 100)           10100     \n",
      "_________________________________________________________________\n",
      "vectorizer (GlobalMaxPooling (None, 100)               0         \n",
      "_________________________________________________________________\n",
      "batch_normalization (BatchNo (None, 100)               400       \n",
      "_________________________________________________________________\n",
      "dense (Dense)                (None, 56)                5656      \n",
      "=================================================================\n",
      "Total params: 16,156\n",
      "Trainable params: 15,956\n",
      "Non-trainable params: 200\n",
      "_________________________________________________________________\n"
     ]
    }
   ],
   "source": [
    "model.summary()"
   ]
  },
  {
   "cell_type": "markdown",
   "metadata": {},
   "source": [
    "## Train the model"
   ]
  },
  {
   "cell_type": "code",
   "execution_count": 32,
   "metadata": {},
   "outputs": [
    {
     "data": {
      "text/plain": [
       "\"weights = class_weight.compute_class_weight('balanced',\\n                                            np.unique(y_train),\\n                                            y_train)\""
      ]
     },
     "execution_count": 32,
     "metadata": {},
     "output_type": "execute_result"
    }
   ],
   "source": [
    "'''weights = class_weight.compute_class_weight('balanced',\n",
    "                                            np.unique(y_train),\n",
    "                                            y_train)'''"
   ]
  },
  {
   "cell_type": "code",
   "execution_count": 33,
   "metadata": {
    "collapsed": true
   },
   "outputs": [],
   "source": [
    "callbacks = [EarlyStopping(monitor='val_acc', \n",
    "                           patience=2),\n",
    "             ModelCheckpoint(filepath='best_model.h5', \n",
    "                             monitor='val_acc', \n",
    "                             save_best_only=True)]"
   ]
  },
  {
   "cell_type": "code",
   "execution_count": 34,
   "metadata": {},
   "outputs": [
    {
     "name": "stdout",
     "output_type": "stream",
     "text": [
      "Train on 665 samples, validate on 83 samples\n",
      "Epoch 1/50\n",
      "665/665 [==============================] - 1s 1ms/step - loss: 3.9370 - acc: 0.0857 - val_loss: 3.7175 - val_acc: 0.2048\n",
      "Epoch 2/50\n",
      "665/665 [==============================] - 0s 642us/step - loss: 2.5594 - acc: 0.4271 - val_loss: 3.1768 - val_acc: 0.4458\n",
      "Epoch 3/50\n",
      "665/665 [==============================] - 0s 560us/step - loss: 1.7570 - acc: 0.6602 - val_loss: 2.5478 - val_acc: 0.5904\n",
      "Epoch 4/50\n",
      "665/665 [==============================] - 0s 572us/step - loss: 1.2914 - acc: 0.7639 - val_loss: 1.9574 - val_acc: 0.6988\n",
      "Epoch 5/50\n",
      "665/665 [==============================] - 0s 564us/step - loss: 0.9335 - acc: 0.8526 - val_loss: 1.5100 - val_acc: 0.7470\n",
      "Epoch 6/50\n",
      "665/665 [==============================] - 0s 656us/step - loss: 0.6914 - acc: 0.9173 - val_loss: 1.2540 - val_acc: 0.7590\n",
      "Epoch 7/50\n",
      "665/665 [==============================] - 0s 575us/step - loss: 0.5488 - acc: 0.9429 - val_loss: 1.0937 - val_acc: 0.7711\n",
      "Epoch 8/50\n",
      "665/665 [==============================] - 0s 609us/step - loss: 0.4122 - acc: 0.9579 - val_loss: 1.0144 - val_acc: 0.7831\n",
      "Epoch 9/50\n",
      "665/665 [==============================] - 0s 559us/step - loss: 0.3326 - acc: 0.9714 - val_loss: 0.9512 - val_acc: 0.7831\n",
      "Epoch 10/50\n",
      "665/665 [==============================] - 0s 561us/step - loss: 0.2766 - acc: 0.9774 - val_loss: 0.9294 - val_acc: 0.8193\n",
      "Epoch 11/50\n",
      "665/665 [==============================] - 0s 543us/step - loss: 0.2262 - acc: 0.9850 - val_loss: 0.8895 - val_acc: 0.8313\n",
      "Epoch 12/50\n",
      "665/665 [==============================] - 0s 503us/step - loss: 0.1682 - acc: 0.9895 - val_loss: 0.8646 - val_acc: 0.8313\n",
      "Epoch 13/50\n",
      "665/665 [==============================] - 0s 555us/step - loss: 0.1444 - acc: 0.9880 - val_loss: 0.8632 - val_acc: 0.8193\n",
      "CPU times: user 12.2 s, sys: 803 ms, total: 13 s\n",
      "Wall time: 7.2 s\n"
     ]
    }
   ],
   "source": [
    "%%time\n",
    "history = model.fit(\n",
    "    train_sequences,\n",
    "    keras.utils.to_categorical(y_train,C),\n",
    "    batch_size=10,\n",
    "    epochs=50,\n",
    "    #class_weight=weights,\n",
    "    callbacks=callbacks,\n",
    "    validation_data=(val_sequences,keras.utils.to_categorical(y_val,C))\n",
    ")"
   ]
  },
  {
   "cell_type": "code",
   "execution_count": 35,
   "metadata": {},
   "outputs": [
    {
     "data": {
      "text/plain": [
       "['acc', 'loss', 'val_acc', 'val_loss']"
      ]
     },
     "execution_count": 35,
     "metadata": {},
     "output_type": "execute_result"
    }
   ],
   "source": [
    "history.history.keys()"
   ]
  },
  {
   "cell_type": "code",
   "execution_count": 36,
   "metadata": {},
   "outputs": [
    {
     "data": {
      "image/png": "[encoded data removed]",
      "text/plain": [
       "<matplotlib.figure.Figure at 0x10b6c3090>"
      ]
     },
     "metadata": {},
     "output_type": "display_data"
    }
   ],
   "source": [
    "plt.plot(history.epoch,history.history['acc'], c='b', label='train acc')\n",
    "plt.plot(history.epoch,history.history['val_acc'], c='r', label='val acc')\n",
    "plt.ylabel('acc')\n",
    "plt.xlabel('epoch')\n",
    "plt.legend()\n",
    "plt.show()"
   ]
  },
  {
   "cell_type": "markdown",
   "metadata": {},
   "source": [
    "## Evaluate the model"
   ]
  },
  {
   "cell_type": "code",
   "execution_count": 37,
   "metadata": {},
   "outputs": [
    {
     "data": {
      "text/plain": [
       "['loss', 'acc']"
      ]
     },
     "execution_count": 37,
     "metadata": {},
     "output_type": "execute_result"
    }
   ],
   "source": [
    "model.metrics_names"
   ]
  },
  {
   "cell_type": "code",
   "execution_count": 38,
   "metadata": {},
   "outputs": [
    {
     "data": {
      "text/plain": [
       "0.7738095209712074"
      ]
     },
     "execution_count": 38,
     "metadata": {},
     "output_type": "execute_result"
    }
   ],
   "source": [
    "accuracy = model.evaluate(test_sequences,\n",
    "                          keras.utils.to_categorical(y_test,C), \n",
    "                          verbose=0)[1]\n",
    "\n",
    "accuracy"
   ]
  },
  {
   "cell_type": "markdown",
   "metadata": {},
   "source": [
    "## Save the model"
   ]
  },
  {
   "cell_type": "code",
   "execution_count": 39,
   "metadata": {
    "collapsed": true
   },
   "outputs": [],
   "source": [
    "model.save('model.h5')\n",
    "#model2 = load_model('model.h5')\n",
    "#model2.predict_classes(test_sequences)"
   ]
  },
  {
   "cell_type": "markdown",
   "metadata": {},
   "source": [
    "# Find similar texts"
   ]
  },
  {
   "cell_type": "markdown",
   "metadata": {},
   "source": [
    "## Vectorize train and test sequences"
   ]
  },
  {
   "cell_type": "code",
   "execution_count": 40,
   "metadata": {
    "collapsed": true
   },
   "outputs": [],
   "source": [
    "vectorizer = Model(model.input, model.get_layer('vectorizer').output)"
   ]
  },
  {
   "cell_type": "code",
   "execution_count": 41,
   "metadata": {},
   "outputs": [
    {
     "data": {
      "text/plain": [
       "(665, 100)"
      ]
     },
     "execution_count": 41,
     "metadata": {},
     "output_type": "execute_result"
    }
   ],
   "source": [
    "# vectorize all the train sequences\n",
    "train_vectors = vectorizer.predict(train_sequences)\n",
    "train_vectors = normalize(train_vectors, axis=1, norm='l2')\n",
    "train_vectors.shape"
   ]
  },
  {
   "cell_type": "code",
   "execution_count": 42,
   "metadata": {},
   "outputs": [
    {
     "data": {
      "text/plain": [
       "(84, 100)"
      ]
     },
     "execution_count": 42,
     "metadata": {},
     "output_type": "execute_result"
    }
   ],
   "source": [
    "# vectorize all the test sequences\n",
    "test_vectors = vectorizer.predict(test_sequences)\n",
    "test_vectors = normalize(test_vectors, axis=1, norm='l2')\n",
    "test_vectors.shape"
   ]
  },
  {
   "cell_type": "markdown",
   "metadata": {},
   "source": [
    "## Calculate cosine similarity"
   ]
  },
  {
   "cell_type": "code",
   "execution_count": 43,
   "metadata": {},
   "outputs": [
    {
     "data": {
      "text/plain": [
       "(84, 665)"
      ]
     },
     "execution_count": 43,
     "metadata": {},
     "output_type": "execute_result"
    }
   ],
   "source": [
    "cosine_similarity_matrix = np.dot(test_vectors, train_vectors.transpose())\n",
    "cosine_similarity_matrix.shape"
   ]
  },
  {
   "cell_type": "code",
   "execution_count": 44,
   "metadata": {},
   "outputs": [
    {
     "data": {
      "text/plain": [
       "(84,)"
      ]
     },
     "execution_count": 44,
     "metadata": {},
     "output_type": "execute_result"
    }
   ],
   "source": [
    "best_match_index = np.argmax(cosine_similarity_matrix, axis=1)\n",
    "best_match_index.shape"
   ]
  },
  {
   "cell_type": "code",
   "execution_count": 45,
   "metadata": {
    "collapsed": true
   },
   "outputs": [],
   "source": [
    "x_train = x_train.reset_index(drop=True)\n",
    "y_train = y_train.reset_index(drop=True)\n",
    "x_test = x_test.reset_index(drop=True)\n",
    "y_test = y_test.reset_index(drop=True)"
   ]
  },
  {
   "cell_type": "code",
   "execution_count": 46,
   "metadata": {},
   "outputs": [
    {
     "data": {
      "text/plain": [
       "(84,)"
      ]
     },
     "execution_count": 46,
     "metadata": {},
     "output_type": "execute_result"
    }
   ],
   "source": [
    "y_predicted = y_train[best_match_index].reset_index(drop=True)\n",
    "y_predicted.shape"
   ]
  },
  {
   "cell_type": "code",
   "execution_count": 47,
   "metadata": {},
   "outputs": [
    {
     "data": {
      "text/plain": [
       "(84,)"
      ]
     },
     "execution_count": 47,
     "metadata": {},
     "output_type": "execute_result"
    }
   ],
   "source": [
    "y_test.shape"
   ]
  },
  {
   "cell_type": "code",
   "execution_count": 48,
   "metadata": {},
   "outputs": [
    {
     "data": {
      "text/plain": [
       "0.7738095238095238"
      ]
     },
     "execution_count": 48,
     "metadata": {},
     "output_type": "execute_result"
    }
   ],
   "source": [
    "accuracy_score(y_test,y_predicted)"
   ]
  },
  {
   "cell_type": "markdown",
   "metadata": {},
   "source": [
    "## Match text"
   ]
  },
  {
   "cell_type": "code",
   "execution_count": 49,
   "metadata": {
    "collapsed": true
   },
   "outputs": [],
   "source": [
    "text = 'Does the octopus have a hard beak?'"
   ]
  },
  {
   "cell_type": "code",
   "execution_count": 50,
   "metadata": {
    "collapsed": true
   },
   "outputs": [],
   "source": [
    "def create_sequence_from_text(text):\n",
    "    matrix = np.zeros((1, max_sequence_length, embedding_dim))\n",
    "    words = text.split()\n",
    "    seq_length = len(words)\n",
    "    if len(words) > max_sequence_length:\n",
    "        seq_length = max_sequence_length\n",
    "    if words:\n",
    "        matrix[0][:seq_length] = [fasttext_model[w] for w in words][:seq_length]\n",
    "    return matrix"
   ]
  },
  {
   "cell_type": "code",
   "execution_count": 51,
   "metadata": {},
   "outputs": [
    {
     "data": {
      "text/plain": [
       "(1, 50, 100)"
      ]
     },
     "execution_count": 51,
     "metadata": {},
     "output_type": "execute_result"
    }
   ],
   "source": [
    "text_sequence = create_sequence_from_text(text)\n",
    "text_sequence.shape"
   ]
  },
  {
   "cell_type": "code",
   "execution_count": 52,
   "metadata": {},
   "outputs": [
    {
     "data": {
      "text/plain": [
       "(1, 100)"
      ]
     },
     "execution_count": 52,
     "metadata": {},
     "output_type": "execute_result"
    }
   ],
   "source": [
    "text_vector = vectorizer.predict(text_sequence)\n",
    "text_vector = normalize(text_vector, axis=1, norm='l2')\n",
    "text_vector.shape"
   ]
  },
  {
   "cell_type": "code",
   "execution_count": 53,
   "metadata": {},
   "outputs": [
    {
     "data": {
      "text/plain": [
       "(1, 84)"
      ]
     },
     "execution_count": 53,
     "metadata": {},
     "output_type": "execute_result"
    }
   ],
   "source": [
    "cosine_similarity = np.dot(text_vector, test_vectors.transpose())#cosine similarity\n",
    "cosine_similarity.shape"
   ]
  },
  {
   "cell_type": "code",
   "execution_count": 54,
   "metadata": {},
   "outputs": [
    {
     "data": {
      "text/plain": [
       "(1,)"
      ]
     },
     "execution_count": 54,
     "metadata": {},
     "output_type": "execute_result"
    }
   ],
   "source": [
    "best_match_index = np.argmax(cosine_similarity, axis=1)\n",
    "best_match_index.shape"
   ]
  },
  {
   "cell_type": "code",
   "execution_count": 55,
   "metadata": {
    "collapsed": true
   },
   "outputs": [],
   "source": [
    "pd.set_option('display.max_colwidth', -1)"
   ]
  },
  {
   "cell_type": "code",
   "execution_count": 56,
   "metadata": {},
   "outputs": [
    {
     "data": {
      "text/plain": [
       "5    has an octopus a hard beak with its mouth at the center point of the arms\n",
       "Name: Question, dtype: object"
      ]
     },
     "execution_count": 56,
     "metadata": {},
     "output_type": "execute_result"
    }
   ],
   "source": [
    "best_match = x_test[best_match_index]\n",
    "best_match"
   ]
  },
  {
   "cell_type": "code",
   "execution_count": 57,
   "metadata": {},
   "outputs": [
    {
     "data": {
      "text/plain": [
       "0.9274387"
      ]
     },
     "execution_count": 57,
     "metadata": {},
     "output_type": "execute_result"
    }
   ],
   "source": [
    "cosine = np.max(cosine_similarity, axis=1)[0]\n",
    "cosine"
   ]
  }
 ],
 "metadata": {
  "kernelspec": {
   "display_name": "Python 2",
   "language": "python",
   "name": "python2"
  },
  "language_info": {
   "codemirror_mode": {
    "name": "ipython",
    "version": 2
   },
   "file_extension": ".py",
   "mimetype": "text/x-python",
   "name": "python",
   "nbconvert_exporter": "python",
   "pygments_lexer": "ipython2",
   "version": "2.7.10"
  }
 },
 "nbformat": 4,
 "nbformat_minor": 2
}
