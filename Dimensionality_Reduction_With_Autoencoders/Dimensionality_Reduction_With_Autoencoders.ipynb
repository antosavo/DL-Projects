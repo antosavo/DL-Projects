{
 "cells": [
  {
   "cell_type": "markdown",
   "metadata": {},
   "source": [
    "This python script compares dimensionality reduction using PCA with dimensionality reduction using an Autoencoder. "
   ]
  },
  {
   "cell_type": "code",
   "execution_count": 1,
   "metadata": {
    "collapsed": true
   },
   "outputs": [],
   "source": [
    "import numpy as np\n",
    "import pandas as pd\n",
    "import matplotlib.pyplot as plt\n",
    "\n",
    "from sklearn.preprocessing import StandardScaler\n",
    "from sklearn.model_selection import train_test_split\n",
    "from sklearn.decomposition import PCA\n",
    "\n",
    "from tensorflow.python.keras.models import Sequential, Model\n",
    "from tensorflow.python.keras.layers import Dense\n",
    "from tensorflow.python.keras.layers import BatchNormalization\n",
    "from tensorflow.python.keras.callbacks import EarlyStopping, ModelCheckpoint"
   ]
  },
  {
   "cell_type": "code",
   "execution_count": 2,
   "metadata": {
    "collapsed": true
   },
   "outputs": [],
   "source": [
    "seed = 7\n",
    "np.random.seed(seed)"
   ]
  },
  {
   "cell_type": "markdown",
   "metadata": {},
   "source": [
    "## Load the data"
   ]
  },
  {
   "cell_type": "code",
   "execution_count": 3,
   "metadata": {
    "collapsed": true
   },
   "outputs": [],
   "source": [
    "df=pd.read_csv('data_with_300_features.csv')"
   ]
  },
  {
   "cell_type": "markdown",
   "metadata": {},
   "source": [
    "## Explore the data"
   ]
  },
  {
   "cell_type": "code",
   "execution_count": 4,
   "metadata": {},
   "outputs": [
    {
     "data": {
      "text/html": [
       "<div>\n",
       "<style scoped>\n",
       "    .dataframe tbody tr th:only-of-type {\n",
       "        vertical-align: middle;\n",
       "    }\n",
       "\n",
       "    .dataframe tbody tr th {\n",
       "        vertical-align: top;\n",
       "    }\n",
       "\n",
       "    .dataframe thead th {\n",
       "        text-align: right;\n",
       "    }\n",
       "</style>\n",
       "<table border=\"1\" class=\"dataframe\">\n",
       "  <thead>\n",
       "    <tr style=\"text-align: right;\">\n",
       "      <th></th>\n",
       "      <th>f_1</th>\n",
       "      <th>f_2</th>\n",
       "      <th>f_3</th>\n",
       "      <th>f_4</th>\n",
       "      <th>f_5</th>\n",
       "      <th>f_6</th>\n",
       "      <th>f_7</th>\n",
       "      <th>f_8</th>\n",
       "      <th>f_9</th>\n",
       "      <th>f_10</th>\n",
       "      <th>...</th>\n",
       "      <th>f_292</th>\n",
       "      <th>f_293</th>\n",
       "      <th>f_294</th>\n",
       "      <th>f_295</th>\n",
       "      <th>f_296</th>\n",
       "      <th>f_297</th>\n",
       "      <th>f_298</th>\n",
       "      <th>f_299</th>\n",
       "      <th>f_300</th>\n",
       "      <th>y</th>\n",
       "    </tr>\n",
       "  </thead>\n",
       "  <tbody>\n",
       "    <tr>\n",
       "      <th>0</th>\n",
       "      <td>0.0</td>\n",
       "      <td>0.116994</td>\n",
       "      <td>0.177675</td>\n",
       "      <td>0.252444</td>\n",
       "      <td>0.355121</td>\n",
       "      <td>0.495311</td>\n",
       "      <td>0.684092</td>\n",
       "      <td>-0.839354</td>\n",
       "      <td>-1.326296</td>\n",
       "      <td>-1.671100</td>\n",
       "      <td>...</td>\n",
       "      <td>-1.405770</td>\n",
       "      <td>-1.393238</td>\n",
       "      <td>0.677601</td>\n",
       "      <td>0.536906</td>\n",
       "      <td>0.414476</td>\n",
       "      <td>0.364132</td>\n",
       "      <td>0.319452</td>\n",
       "      <td>0.235923</td>\n",
       "      <td>0.260693</td>\n",
       "      <td>1</td>\n",
       "    </tr>\n",
       "    <tr>\n",
       "      <th>1</th>\n",
       "      <td>0.0</td>\n",
       "      <td>0.116994</td>\n",
       "      <td>0.177675</td>\n",
       "      <td>0.252444</td>\n",
       "      <td>0.355121</td>\n",
       "      <td>0.430807</td>\n",
       "      <td>-1.591455</td>\n",
       "      <td>0.296621</td>\n",
       "      <td>0.840551</td>\n",
       "      <td>0.676209</td>\n",
       "      <td>...</td>\n",
       "      <td>-0.447146</td>\n",
       "      <td>0.794763</td>\n",
       "      <td>0.677601</td>\n",
       "      <td>0.536906</td>\n",
       "      <td>0.414476</td>\n",
       "      <td>0.364132</td>\n",
       "      <td>0.319452</td>\n",
       "      <td>0.235923</td>\n",
       "      <td>0.260693</td>\n",
       "      <td>1</td>\n",
       "    </tr>\n",
       "    <tr>\n",
       "      <th>2</th>\n",
       "      <td>0.0</td>\n",
       "      <td>0.116994</td>\n",
       "      <td>0.177675</td>\n",
       "      <td>0.252444</td>\n",
       "      <td>-0.560008</td>\n",
       "      <td>-2.246099</td>\n",
       "      <td>0.684092</td>\n",
       "      <td>-0.254155</td>\n",
       "      <td>0.840551</td>\n",
       "      <td>0.676209</td>\n",
       "      <td>...</td>\n",
       "      <td>0.799064</td>\n",
       "      <td>0.794763</td>\n",
       "      <td>-1.542158</td>\n",
       "      <td>0.536906</td>\n",
       "      <td>0.414476</td>\n",
       "      <td>0.364132</td>\n",
       "      <td>0.319452</td>\n",
       "      <td>0.235923</td>\n",
       "      <td>0.260693</td>\n",
       "      <td>1</td>\n",
       "    </tr>\n",
       "    <tr>\n",
       "      <th>3</th>\n",
       "      <td>0.0</td>\n",
       "      <td>0.116994</td>\n",
       "      <td>0.177675</td>\n",
       "      <td>0.252444</td>\n",
       "      <td>0.355121</td>\n",
       "      <td>0.495311</td>\n",
       "      <td>-1.591455</td>\n",
       "      <td>0.847396</td>\n",
       "      <td>0.840551</td>\n",
       "      <td>0.676209</td>\n",
       "      <td>...</td>\n",
       "      <td>-1.405770</td>\n",
       "      <td>-1.393238</td>\n",
       "      <td>-1.533314</td>\n",
       "      <td>0.536906</td>\n",
       "      <td>0.414476</td>\n",
       "      <td>0.364132</td>\n",
       "      <td>0.319452</td>\n",
       "      <td>0.235923</td>\n",
       "      <td>0.260693</td>\n",
       "      <td>1</td>\n",
       "    </tr>\n",
       "    <tr>\n",
       "      <th>4</th>\n",
       "      <td>0.0</td>\n",
       "      <td>0.116994</td>\n",
       "      <td>0.177675</td>\n",
       "      <td>0.252444</td>\n",
       "      <td>-0.503692</td>\n",
       "      <td>-2.246099</td>\n",
       "      <td>-1.591455</td>\n",
       "      <td>-0.908201</td>\n",
       "      <td>0.840551</td>\n",
       "      <td>0.676209</td>\n",
       "      <td>...</td>\n",
       "      <td>0.799064</td>\n",
       "      <td>-1.350336</td>\n",
       "      <td>-1.577532</td>\n",
       "      <td>0.363711</td>\n",
       "      <td>0.414476</td>\n",
       "      <td>0.364132</td>\n",
       "      <td>0.319452</td>\n",
       "      <td>0.235923</td>\n",
       "      <td>0.260693</td>\n",
       "      <td>1</td>\n",
       "    </tr>\n",
       "  </tbody>\n",
       "</table>\n",
       "<p>5 rows × 301 columns</p>\n",
       "</div>"
      ],
      "text/plain": [
       "   f_1       f_2       f_3       f_4       f_5       f_6       f_7       f_8  \\\n",
       "0  0.0  0.116994  0.177675  0.252444  0.355121  0.495311  0.684092 -0.839354   \n",
       "1  0.0  0.116994  0.177675  0.252444  0.355121  0.430807 -1.591455  0.296621   \n",
       "2  0.0  0.116994  0.177675  0.252444 -0.560008 -2.246099  0.684092 -0.254155   \n",
       "3  0.0  0.116994  0.177675  0.252444  0.355121  0.495311 -1.591455  0.847396   \n",
       "4  0.0  0.116994  0.177675  0.252444 -0.503692 -2.246099 -1.591455 -0.908201   \n",
       "\n",
       "        f_9      f_10 ...     f_292     f_293     f_294     f_295     f_296  \\\n",
       "0 -1.326296 -1.671100 ... -1.405770 -1.393238  0.677601  0.536906  0.414476   \n",
       "1  0.840551  0.676209 ... -0.447146  0.794763  0.677601  0.536906  0.414476   \n",
       "2  0.840551  0.676209 ...  0.799064  0.794763 -1.542158  0.536906  0.414476   \n",
       "3  0.840551  0.676209 ... -1.405770 -1.393238 -1.533314  0.536906  0.414476   \n",
       "4  0.840551  0.676209 ...  0.799064 -1.350336 -1.577532  0.363711  0.414476   \n",
       "\n",
       "      f_297     f_298     f_299     f_300  y  \n",
       "0  0.364132  0.319452  0.235923  0.260693  1  \n",
       "1  0.364132  0.319452  0.235923  0.260693  1  \n",
       "2  0.364132  0.319452  0.235923  0.260693  1  \n",
       "3  0.364132  0.319452  0.235923  0.260693  1  \n",
       "4  0.364132  0.319452  0.235923  0.260693  1  \n",
       "\n",
       "[5 rows x 301 columns]"
      ]
     },
     "execution_count": 4,
     "metadata": {},
     "output_type": "execute_result"
    }
   ],
   "source": [
    "df.head()"
   ]
  },
  {
   "cell_type": "code",
   "execution_count": 5,
   "metadata": {},
   "outputs": [
    {
     "data": {
      "text/html": [
       "<div>\n",
       "<style scoped>\n",
       "    .dataframe tbody tr th:only-of-type {\n",
       "        vertical-align: middle;\n",
       "    }\n",
       "\n",
       "    .dataframe tbody tr th {\n",
       "        vertical-align: top;\n",
       "    }\n",
       "\n",
       "    .dataframe thead th {\n",
       "        text-align: right;\n",
       "    }\n",
       "</style>\n",
       "<table border=\"1\" class=\"dataframe\">\n",
       "  <thead>\n",
       "    <tr style=\"text-align: right;\">\n",
       "      <th></th>\n",
       "      <th>f_1</th>\n",
       "      <th>f_2</th>\n",
       "      <th>f_3</th>\n",
       "      <th>f_4</th>\n",
       "      <th>f_5</th>\n",
       "      <th>f_6</th>\n",
       "      <th>f_7</th>\n",
       "      <th>f_8</th>\n",
       "      <th>f_9</th>\n",
       "      <th>f_10</th>\n",
       "      <th>...</th>\n",
       "      <th>f_292</th>\n",
       "      <th>f_293</th>\n",
       "      <th>f_294</th>\n",
       "      <th>f_295</th>\n",
       "      <th>f_296</th>\n",
       "      <th>f_297</th>\n",
       "      <th>f_298</th>\n",
       "      <th>f_299</th>\n",
       "      <th>f_300</th>\n",
       "      <th>y</th>\n",
       "    </tr>\n",
       "  </thead>\n",
       "  <tbody>\n",
       "    <tr>\n",
       "      <th>count</th>\n",
       "      <td>550.0</td>\n",
       "      <td>5.500000e+02</td>\n",
       "      <td>5.500000e+02</td>\n",
       "      <td>5.500000e+02</td>\n",
       "      <td>5.500000e+02</td>\n",
       "      <td>5.500000e+02</td>\n",
       "      <td>5.500000e+02</td>\n",
       "      <td>5.500000e+02</td>\n",
       "      <td>5.500000e+02</td>\n",
       "      <td>5.500000e+02</td>\n",
       "      <td>...</td>\n",
       "      <td>5.500000e+02</td>\n",
       "      <td>5.500000e+02</td>\n",
       "      <td>5.500000e+02</td>\n",
       "      <td>5.500000e+02</td>\n",
       "      <td>5.500000e+02</td>\n",
       "      <td>5.500000e+02</td>\n",
       "      <td>5.500000e+02</td>\n",
       "      <td>5.500000e+02</td>\n",
       "      <td>5.500000e+02</td>\n",
       "      <td>550.000000</td>\n",
       "    </tr>\n",
       "    <tr>\n",
       "      <th>mean</th>\n",
       "      <td>0.0</td>\n",
       "      <td>2.493673e-07</td>\n",
       "      <td>2.712727e-09</td>\n",
       "      <td>-1.834545e-08</td>\n",
       "      <td>-4.503636e-08</td>\n",
       "      <td>-4.261818e-08</td>\n",
       "      <td>4.004000e-08</td>\n",
       "      <td>-1.443818e-08</td>\n",
       "      <td>1.253818e-08</td>\n",
       "      <td>4.839091e-08</td>\n",
       "      <td>...</td>\n",
       "      <td>-5.096673e-08</td>\n",
       "      <td>8.558182e-09</td>\n",
       "      <td>-2.467091e-08</td>\n",
       "      <td>-3.193055e-08</td>\n",
       "      <td>-7.976364e-08</td>\n",
       "      <td>-1.965818e-09</td>\n",
       "      <td>5.548182e-08</td>\n",
       "      <td>1.311818e-07</td>\n",
       "      <td>1.012727e-07</td>\n",
       "      <td>5.500000</td>\n",
       "    </tr>\n",
       "    <tr>\n",
       "      <th>std</th>\n",
       "      <td>0.0</td>\n",
       "      <td>1.000912e+00</td>\n",
       "      <td>1.000908e+00</td>\n",
       "      <td>1.000908e+00</td>\n",
       "      <td>1.000909e+00</td>\n",
       "      <td>1.000910e+00</td>\n",
       "      <td>1.000907e+00</td>\n",
       "      <td>1.000909e+00</td>\n",
       "      <td>1.000909e+00</td>\n",
       "      <td>1.000910e+00</td>\n",
       "      <td>...</td>\n",
       "      <td>1.000911e+00</td>\n",
       "      <td>1.000910e+00</td>\n",
       "      <td>1.000913e+00</td>\n",
       "      <td>1.000910e+00</td>\n",
       "      <td>1.000914e+00</td>\n",
       "      <td>1.000912e+00</td>\n",
       "      <td>1.000911e+00</td>\n",
       "      <td>1.000908e+00</td>\n",
       "      <td>1.000907e+00</td>\n",
       "      <td>2.874896</td>\n",
       "    </tr>\n",
       "    <tr>\n",
       "      <th>min</th>\n",
       "      <td>0.0</td>\n",
       "      <td>-1.028785e+01</td>\n",
       "      <td>-6.137300e+00</td>\n",
       "      <td>-4.387830e+00</td>\n",
       "      <td>-3.235000e+00</td>\n",
       "      <td>-2.246099e+00</td>\n",
       "      <td>-1.591455e+00</td>\n",
       "      <td>-1.347100e+00</td>\n",
       "      <td>-1.326296e+00</td>\n",
       "      <td>-1.671100e+00</td>\n",
       "      <td>...</td>\n",
       "      <td>-1.423199e+00</td>\n",
       "      <td>-1.393238e+00</td>\n",
       "      <td>-1.577532e+00</td>\n",
       "      <td>-2.061027e+00</td>\n",
       "      <td>-2.663154e+00</td>\n",
       "      <td>-2.949277e+00</td>\n",
       "      <td>-3.346923e+00</td>\n",
       "      <td>-4.414564e+00</td>\n",
       "      <td>-3.835909e+00</td>\n",
       "      <td>1.000000</td>\n",
       "    </tr>\n",
       "    <tr>\n",
       "      <th>25%</th>\n",
       "      <td>0.0</td>\n",
       "      <td>1.169944e-01</td>\n",
       "      <td>1.776748e-01</td>\n",
       "      <td>2.524441e-01</td>\n",
       "      <td>3.551211e-01</td>\n",
       "      <td>4.738094e-01</td>\n",
       "      <td>-1.522297e+00</td>\n",
       "      <td>-1.347100e+00</td>\n",
       "      <td>-1.326296e+00</td>\n",
       "      <td>-1.010632e+00</td>\n",
       "      <td>...</td>\n",
       "      <td>-1.405770e+00</td>\n",
       "      <td>-1.393238e+00</td>\n",
       "      <td>-1.533314e+00</td>\n",
       "      <td>3.178647e-01</td>\n",
       "      <td>4.144760e-01</td>\n",
       "      <td>3.641325e-01</td>\n",
       "      <td>3.194517e-01</td>\n",
       "      <td>2.359232e-01</td>\n",
       "      <td>2.606930e-01</td>\n",
       "      <td>3.000000</td>\n",
       "    </tr>\n",
       "    <tr>\n",
       "      <th>50%</th>\n",
       "      <td>0.0</td>\n",
       "      <td>1.169944e-01</td>\n",
       "      <td>1.776748e-01</td>\n",
       "      <td>2.524441e-01</td>\n",
       "      <td>3.551211e-01</td>\n",
       "      <td>4.953107e-01</td>\n",
       "      <td>6.840920e-01</td>\n",
       "      <td>8.473964e-01</td>\n",
       "      <td>8.320537e-01</td>\n",
       "      <td>6.762092e-01</td>\n",
       "      <td>...</td>\n",
       "      <td>7.990640e-01</td>\n",
       "      <td>7.947632e-01</td>\n",
       "      <td>6.776013e-01</td>\n",
       "      <td>5.369061e-01</td>\n",
       "      <td>4.144760e-01</td>\n",
       "      <td>3.641325e-01</td>\n",
       "      <td>3.194517e-01</td>\n",
       "      <td>2.359232e-01</td>\n",
       "      <td>2.606930e-01</td>\n",
       "      <td>5.500000</td>\n",
       "    </tr>\n",
       "    <tr>\n",
       "      <th>75%</th>\n",
       "      <td>0.0</td>\n",
       "      <td>1.169944e-01</td>\n",
       "      <td>1.776748e-01</td>\n",
       "      <td>2.524441e-01</td>\n",
       "      <td>3.551211e-01</td>\n",
       "      <td>4.953107e-01</td>\n",
       "      <td>6.840920e-01</td>\n",
       "      <td>8.473964e-01</td>\n",
       "      <td>8.405511e-01</td>\n",
       "      <td>6.762092e-01</td>\n",
       "      <td>...</td>\n",
       "      <td>7.990640e-01</td>\n",
       "      <td>7.947632e-01</td>\n",
       "      <td>6.776013e-01</td>\n",
       "      <td>5.369061e-01</td>\n",
       "      <td>4.144760e-01</td>\n",
       "      <td>3.641325e-01</td>\n",
       "      <td>3.194517e-01</td>\n",
       "      <td>2.359232e-01</td>\n",
       "      <td>2.606930e-01</td>\n",
       "      <td>8.000000</td>\n",
       "    </tr>\n",
       "    <tr>\n",
       "      <th>max</th>\n",
       "      <td>0.0</td>\n",
       "      <td>1.169944e-01</td>\n",
       "      <td>1.776748e-01</td>\n",
       "      <td>2.524441e-01</td>\n",
       "      <td>3.551211e-01</td>\n",
       "      <td>4.953107e-01</td>\n",
       "      <td>6.840920e-01</td>\n",
       "      <td>8.473964e-01</td>\n",
       "      <td>8.405511e-01</td>\n",
       "      <td>6.762092e-01</td>\n",
       "      <td>...</td>\n",
       "      <td>7.990640e-01</td>\n",
       "      <td>7.947632e-01</td>\n",
       "      <td>6.776013e-01</td>\n",
       "      <td>5.369061e-01</td>\n",
       "      <td>4.144760e-01</td>\n",
       "      <td>3.641325e-01</td>\n",
       "      <td>3.194517e-01</td>\n",
       "      <td>2.359232e-01</td>\n",
       "      <td>2.606930e-01</td>\n",
       "      <td>10.000000</td>\n",
       "    </tr>\n",
       "  </tbody>\n",
       "</table>\n",
       "<p>8 rows × 301 columns</p>\n",
       "</div>"
      ],
      "text/plain": [
       "         f_1           f_2           f_3           f_4           f_5  \\\n",
       "count  550.0  5.500000e+02  5.500000e+02  5.500000e+02  5.500000e+02   \n",
       "mean     0.0  2.493673e-07  2.712727e-09 -1.834545e-08 -4.503636e-08   \n",
       "std      0.0  1.000912e+00  1.000908e+00  1.000908e+00  1.000909e+00   \n",
       "min      0.0 -1.028785e+01 -6.137300e+00 -4.387830e+00 -3.235000e+00   \n",
       "25%      0.0  1.169944e-01  1.776748e-01  2.524441e-01  3.551211e-01   \n",
       "50%      0.0  1.169944e-01  1.776748e-01  2.524441e-01  3.551211e-01   \n",
       "75%      0.0  1.169944e-01  1.776748e-01  2.524441e-01  3.551211e-01   \n",
       "max      0.0  1.169944e-01  1.776748e-01  2.524441e-01  3.551211e-01   \n",
       "\n",
       "                f_6           f_7           f_8           f_9          f_10  \\\n",
       "count  5.500000e+02  5.500000e+02  5.500000e+02  5.500000e+02  5.500000e+02   \n",
       "mean  -4.261818e-08  4.004000e-08 -1.443818e-08  1.253818e-08  4.839091e-08   \n",
       "std    1.000910e+00  1.000907e+00  1.000909e+00  1.000909e+00  1.000910e+00   \n",
       "min   -2.246099e+00 -1.591455e+00 -1.347100e+00 -1.326296e+00 -1.671100e+00   \n",
       "25%    4.738094e-01 -1.522297e+00 -1.347100e+00 -1.326296e+00 -1.010632e+00   \n",
       "50%    4.953107e-01  6.840920e-01  8.473964e-01  8.320537e-01  6.762092e-01   \n",
       "75%    4.953107e-01  6.840920e-01  8.473964e-01  8.405511e-01  6.762092e-01   \n",
       "max    4.953107e-01  6.840920e-01  8.473964e-01  8.405511e-01  6.762092e-01   \n",
       "\n",
       "          ...             f_292         f_293         f_294         f_295  \\\n",
       "count     ...      5.500000e+02  5.500000e+02  5.500000e+02  5.500000e+02   \n",
       "mean      ...     -5.096673e-08  8.558182e-09 -2.467091e-08 -3.193055e-08   \n",
       "std       ...      1.000911e+00  1.000910e+00  1.000913e+00  1.000910e+00   \n",
       "min       ...     -1.423199e+00 -1.393238e+00 -1.577532e+00 -2.061027e+00   \n",
       "25%       ...     -1.405770e+00 -1.393238e+00 -1.533314e+00  3.178647e-01   \n",
       "50%       ...      7.990640e-01  7.947632e-01  6.776013e-01  5.369061e-01   \n",
       "75%       ...      7.990640e-01  7.947632e-01  6.776013e-01  5.369061e-01   \n",
       "max       ...      7.990640e-01  7.947632e-01  6.776013e-01  5.369061e-01   \n",
       "\n",
       "              f_296         f_297         f_298         f_299         f_300  \\\n",
       "count  5.500000e+02  5.500000e+02  5.500000e+02  5.500000e+02  5.500000e+02   \n",
       "mean  -7.976364e-08 -1.965818e-09  5.548182e-08  1.311818e-07  1.012727e-07   \n",
       "std    1.000914e+00  1.000912e+00  1.000911e+00  1.000908e+00  1.000907e+00   \n",
       "min   -2.663154e+00 -2.949277e+00 -3.346923e+00 -4.414564e+00 -3.835909e+00   \n",
       "25%    4.144760e-01  3.641325e-01  3.194517e-01  2.359232e-01  2.606930e-01   \n",
       "50%    4.144760e-01  3.641325e-01  3.194517e-01  2.359232e-01  2.606930e-01   \n",
       "75%    4.144760e-01  3.641325e-01  3.194517e-01  2.359232e-01  2.606930e-01   \n",
       "max    4.144760e-01  3.641325e-01  3.194517e-01  2.359232e-01  2.606930e-01   \n",
       "\n",
       "                y  \n",
       "count  550.000000  \n",
       "mean     5.500000  \n",
       "std      2.874896  \n",
       "min      1.000000  \n",
       "25%      3.000000  \n",
       "50%      5.500000  \n",
       "75%      8.000000  \n",
       "max     10.000000  \n",
       "\n",
       "[8 rows x 301 columns]"
      ]
     },
     "execution_count": 5,
     "metadata": {},
     "output_type": "execute_result"
    }
   ],
   "source": [
    "df.describe()"
   ]
  },
  {
   "cell_type": "code",
   "execution_count": 6,
   "metadata": {},
   "outputs": [
    {
     "data": {
      "text/plain": [
       "(550, 301)"
      ]
     },
     "execution_count": 6,
     "metadata": {},
     "output_type": "execute_result"
    }
   ],
   "source": [
    "df.shape"
   ]
  },
  {
   "cell_type": "code",
   "execution_count": 7,
   "metadata": {
    "collapsed": true
   },
   "outputs": [],
   "source": [
    "x = df.iloc[:,0:300]"
   ]
  },
  {
   "cell_type": "code",
   "execution_count": 8,
   "metadata": {},
   "outputs": [
    {
     "data": {
      "text/plain": [
       "(550, 300)"
      ]
     },
     "execution_count": 8,
     "metadata": {},
     "output_type": "execute_result"
    }
   ],
   "source": [
    "x.shape"
   ]
  },
  {
   "cell_type": "code",
   "execution_count": 9,
   "metadata": {
    "collapsed": true
   },
   "outputs": [],
   "source": [
    "y = df['y']"
   ]
  },
  {
   "cell_type": "code",
   "execution_count": 10,
   "metadata": {},
   "outputs": [
    {
     "data": {
      "text/plain": [
       "(550,)"
      ]
     },
     "execution_count": 10,
     "metadata": {},
     "output_type": "execute_result"
    }
   ],
   "source": [
    "y.shape"
   ]
  },
  {
   "cell_type": "code",
   "execution_count": 11,
   "metadata": {},
   "outputs": [
    {
     "data": {
      "text/plain": [
       "array([ 1,  2,  3,  4,  5,  6,  7,  8,  9, 10])"
      ]
     },
     "execution_count": 11,
     "metadata": {},
     "output_type": "execute_result"
    }
   ],
   "source": [
    "y.unique()"
   ]
  },
  {
   "cell_type": "markdown",
   "metadata": {},
   "source": [
    "## Splitting into train and validation sets"
   ]
  },
  {
   "cell_type": "code",
   "execution_count": 12,
   "metadata": {
    "collapsed": true
   },
   "outputs": [],
   "source": [
    "x_train, x_val, y_train, y_val = train_test_split(x, y, \n",
    "                                                  test_size=0.33, \n",
    "                                                  stratify=y)"
   ]
  },
  {
   "cell_type": "markdown",
   "metadata": {},
   "source": [
    "## Scale the features"
   ]
  },
  {
   "cell_type": "code",
   "execution_count": 13,
   "metadata": {
    "collapsed": true
   },
   "outputs": [],
   "source": [
    "scaler = StandardScaler()"
   ]
  },
  {
   "cell_type": "code",
   "execution_count": 14,
   "metadata": {
    "collapsed": true
   },
   "outputs": [],
   "source": [
    "x_train = scaler.fit_transform(x_train)"
   ]
  },
  {
   "cell_type": "code",
   "execution_count": 15,
   "metadata": {
    "collapsed": true
   },
   "outputs": [],
   "source": [
    "x_val = scaler.transform(x_val)"
   ]
  },
  {
   "cell_type": "markdown",
   "metadata": {},
   "source": [
    "## Dimensionality reduction with PCA"
   ]
  },
  {
   "cell_type": "code",
   "execution_count": 16,
   "metadata": {},
   "outputs": [
    {
     "data": {
      "text/plain": [
       "array([0.10474607, 0.08875202])"
      ]
     },
     "execution_count": 16,
     "metadata": {},
     "output_type": "execute_result"
    }
   ],
   "source": [
    "pca = PCA(n_components=2)\n",
    "x_pca = pca.fit_transform(x_val)\n",
    "pca.explained_variance_ratio_"
   ]
  },
  {
   "cell_type": "code",
   "execution_count": 17,
   "metadata": {},
   "outputs": [
    {
     "data": {
      "text/plain": [
       "(182, 2)"
      ]
     },
     "execution_count": 17,
     "metadata": {},
     "output_type": "execute_result"
    }
   ],
   "source": [
    "x_pca.shape"
   ]
  },
  {
   "cell_type": "markdown",
   "metadata": {},
   "source": [
    "## Plot the first two principal components"
   ]
  },
  {
   "cell_type": "code",
   "execution_count": 18,
   "metadata": {},
   "outputs": [
    {
     "data": {
      "image/png": "[encoded data removed]",
      "text/plain": [
       "<matplotlib.figure.Figure at 0x117038e10>"
      ]
     },
     "metadata": {},
     "output_type": "display_data"
    }
   ],
   "source": [
    "plt.scatter(x_pca[:,0], x_pca[:,1], cmap=\"jet\", c=y_val, marker=\"o\", edgecolor=\"none\", s=40*np.ones(550), vmin=1, vmax=10)\n",
    "cbar = plt.colorbar()\n",
    "cbar.set_label(\"N\")\n",
    "cbar.set_ticks([1,2,3,4,5,6,7,8,9,10])\n",
    "plt.xlabel('First component')\n",
    "plt.ylabel('Second component')\n",
    "plt.title('PCA')\n",
    "plt.show()"
   ]
  },
  {
   "cell_type": "markdown",
   "metadata": {},
   "source": [
    "## Dimensionality reduction with autoencoder"
   ]
  },
  {
   "cell_type": "code",
   "execution_count": 19,
   "metadata": {
    "collapsed": true
   },
   "outputs": [],
   "source": [
    "model = Sequential()\n",
    "model.add(Dense(50, activation='relu', input_shape=(300,)))\n",
    "model.add(Dense(20, activation='relu'))\n",
    "model.add(Dense(2, activation='linear', name=\"bottleneck\"))\n",
    "model.add(Dense(20, activation='relu'))\n",
    "model.add(Dense(50, activation='relu'))\n",
    "model.add(Dense(300, activation='linear'))"
   ]
  },
  {
   "cell_type": "code",
   "execution_count": 20,
   "metadata": {
    "collapsed": true
   },
   "outputs": [],
   "source": [
    "model.compile(loss='mse', optimizer='adam')"
   ]
  },
  {
   "cell_type": "code",
   "execution_count": 21,
   "metadata": {
    "collapsed": true
   },
   "outputs": [],
   "source": [
    "callbacks = [EarlyStopping(monitor='val_loss', \n",
    "                           patience=4),\n",
    "             ModelCheckpoint(filepath='best_model.h5', \n",
    "                             monitor='val_loss', \n",
    "                             save_best_only=True)]"
   ]
  },
  {
   "cell_type": "code",
   "execution_count": 22,
   "metadata": {},
   "outputs": [
    {
     "name": "stdout",
     "output_type": "stream",
     "text": [
      "Train on 368 samples, validate on 182 samples\n",
      "Epoch 1/50\n",
      "368/368 [==============================] - 2s 4ms/step - loss: 0.9349 - val_loss: 0.8313\n",
      "Epoch 2/50\n",
      "368/368 [==============================] - 1s 2ms/step - loss: 0.7974 - val_loss: 0.7721\n",
      "Epoch 3/50\n",
      "368/368 [==============================] - 1s 2ms/step - loss: 0.7544 - val_loss: 0.7509\n",
      "Epoch 4/50\n",
      "368/368 [==============================] - 1s 3ms/step - loss: 0.7305 - val_loss: 0.7372\n",
      "Epoch 5/50\n",
      "368/368 [==============================] - 1s 3ms/step - loss: 0.7104 - val_loss: 0.7252\n",
      "Epoch 6/50\n",
      "368/368 [==============================] - 1s 3ms/step - loss: 0.6942 - val_loss: 0.7081\n",
      "Epoch 7/50\n",
      "368/368 [==============================] - 1s 3ms/step - loss: 0.6783 - val_loss: 0.6993\n",
      "Epoch 8/50\n",
      "368/368 [==============================] - 1s 3ms/step - loss: 0.6687 - val_loss: 0.7051\n",
      "Epoch 9/50\n",
      "368/368 [==============================] - 1s 3ms/step - loss: 0.6624 - val_loss: 0.6930\n",
      "Epoch 10/50\n",
      "368/368 [==============================] - 1s 3ms/step - loss: 0.6577 - val_loss: 0.6911\n",
      "Epoch 11/50\n",
      "368/368 [==============================] - 1s 3ms/step - loss: 0.6484 - val_loss: 0.6904\n",
      "Epoch 12/50\n",
      "368/368 [==============================] - 1s 3ms/step - loss: 0.6443 - val_loss: 0.6889\n",
      "Epoch 13/50\n",
      "368/368 [==============================] - 1s 3ms/step - loss: 0.6383 - val_loss: 0.6897\n",
      "Epoch 14/50\n",
      "368/368 [==============================] - 1s 3ms/step - loss: 0.6346 - val_loss: 0.6894\n",
      "Epoch 15/50\n",
      "368/368 [==============================] - 1s 2ms/step - loss: 0.6322 - val_loss: 0.6876\n",
      "Epoch 16/50\n",
      "368/368 [==============================] - 1s 3ms/step - loss: 0.6271 - val_loss: 0.6841\n",
      "Epoch 17/50\n",
      "368/368 [==============================] - 1s 3ms/step - loss: 0.6226 - val_loss: 0.6771\n",
      "Epoch 18/50\n",
      "368/368 [==============================] - 1s 3ms/step - loss: 0.6184 - val_loss: 0.6800\n",
      "Epoch 19/50\n",
      "368/368 [==============================] - 1s 3ms/step - loss: 0.6140 - val_loss: 0.6790\n",
      "Epoch 20/50\n",
      "368/368 [==============================] - 1s 3ms/step - loss: 0.6112 - val_loss: 0.6833\n",
      "Epoch 21/50\n",
      "368/368 [==============================] - 1s 3ms/step - loss: 0.6096 - val_loss: 0.6879\n"
     ]
    }
   ],
   "source": [
    "history = model.fit(x_train, x_train, \n",
    "                    batch_size=1, epochs=50,\n",
    "                    callbacks=callbacks,\n",
    "                    validation_data=(x_val,x_val))"
   ]
  },
  {
   "cell_type": "code",
   "execution_count": 23,
   "metadata": {},
   "outputs": [
    {
     "data": {
      "image/png": "[encoded data removed]",
      "text/plain": [
       "<matplotlib.figure.Figure at 0x104d4bb10>"
      ]
     },
     "metadata": {},
     "output_type": "display_data"
    }
   ],
   "source": [
    "plt.plot(history.epoch,history.history['loss'],c='b',label='train loss')\n",
    "plt.plot(history.epoch,history.history['val_loss'],c='r',label='val loss')\n",
    "plt.ylabel('loss')\n",
    "plt.xlabel('epoch')\n",
    "plt.legend()\n",
    "plt.show()"
   ]
  },
  {
   "cell_type": "code",
   "execution_count": 24,
   "metadata": {
    "collapsed": true
   },
   "outputs": [],
   "source": [
    "encoder = Model(model.input, model.get_layer('bottleneck').output)"
   ]
  },
  {
   "cell_type": "code",
   "execution_count": 25,
   "metadata": {
    "collapsed": true
   },
   "outputs": [],
   "source": [
    "x_ae = encoder.predict(x_val)"
   ]
  },
  {
   "cell_type": "markdown",
   "metadata": {},
   "source": [
    "## Compare PCA and Autoencoder dimensionality reduction"
   ]
  },
  {
   "cell_type": "code",
   "execution_count": 26,
   "metadata": {},
   "outputs": [
    {
     "data": {
      "text/plain": [
       "[6.0, 4.0]"
      ]
     },
     "execution_count": 26,
     "metadata": {},
     "output_type": "execute_result"
    }
   ],
   "source": [
    "plt.rcParams.get('figure.figsize')"
   ]
  },
  {
   "cell_type": "code",
   "execution_count": 27,
   "metadata": {},
   "outputs": [
    {
     "data": {
      "text/plain": [
       "<matplotlib.figure.Figure at 0x1187e1a90>"
      ]
     },
     "execution_count": 27,
     "metadata": {},
     "output_type": "execute_result"
    }
   ],
   "source": [
    "plt.figure(figsize=(12.0,4.0))"
   ]
  },
  {
   "cell_type": "code",
   "execution_count": 28,
   "metadata": {},
   "outputs": [
    {
     "data": {
      "image/png": "[encoded data removed]",
      "text/plain": [
       "<matplotlib.figure.Figure at 0x1187e1a90>"
      ]
     },
     "metadata": {},
     "output_type": "display_data"
    }
   ],
   "source": [
    "plt.subplot(1,2,1)\n",
    "plt.scatter(x_ae[:,0], x_ae[:,1], cmap=\"jet\", c=y_val, marker=\"o\", edgecolor=\"none\", s=40*np.ones(550), vmin=1, vmax=10)\n",
    "cbar = plt.colorbar()\n",
    "cbar.set_label(\"N\")\n",
    "cbar.set_ticks([1,2,3,4,5,6,7,8,9,10])\n",
    "plt.xlabel('First component')\n",
    "plt.ylabel('Second component')\n",
    "plt.title('Autoencoder')\n",
    "\n",
    "plt.subplot(1,2,2)\n",
    "plt.scatter(x_pca[:,0], x_pca[:,1], cmap=\"jet\", c=y_val, marker=\"o\", edgecolor=\"none\", s=40*np.ones(550), vmin=1, vmax=10)\n",
    "cbar = plt.colorbar()\n",
    "cbar.set_label(\"N\")\n",
    "cbar.set_ticks([1,2,3,4,5,6,7,8,9,10])\n",
    "plt.xlabel('First component')\n",
    "plt.ylabel('Second component')\n",
    "plt.title('PCA')\n",
    "\n",
    "plt.show()"
   ]
  }
 ],
 "metadata": {
  "kernelspec": {
   "display_name": "Python 2",
   "language": "python",
   "name": "python2"
  },
  "language_info": {
   "codemirror_mode": {
    "name": "ipython",
    "version": 2
   },
   "file_extension": ".py",
   "mimetype": "text/x-python",
   "name": "python",
   "nbconvert_exporter": "python",
   "pygments_lexer": "ipython2",
   "version": "2.7.10"
  }
 },
 "nbformat": 4,
 "nbformat_minor": 2
}
