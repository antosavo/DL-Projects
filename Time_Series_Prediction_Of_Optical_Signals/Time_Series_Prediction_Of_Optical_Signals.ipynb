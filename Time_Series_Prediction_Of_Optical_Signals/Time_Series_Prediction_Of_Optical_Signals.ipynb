{
 "cells": [
  {
   "cell_type": "markdown",
   "metadata": {},
   "source": [
    "This python script uses a neural network to predict sequences of optical signals."
   ]
  },
  {
   "cell_type": "code",
   "execution_count": 1,
   "metadata": {
    "collapsed": true
   },
   "outputs": [],
   "source": [
    "import numpy as np\n",
    "import pandas as pd\n",
    "import matplotlib.pyplot as plt\n",
    "from sklearn.metrics import mean_squared_error"
   ]
  },
  {
   "cell_type": "code",
   "execution_count": 2,
   "metadata": {},
   "outputs": [],
   "source": [
    "from tensorflow.python import keras\n",
    "from tensorflow.python.keras.models import Sequential, load_model\n",
    "from tensorflow.python.keras.layers import Dense, Conv1D, Flatten \n",
    "from tensorflow.python.keras.layers import BatchNormalization\n",
    "from tensorflow.python.keras.callbacks import EarlyStopping, ModelCheckpoint\n",
    "from tensorflow.python.keras.models import load_model\n",
    "import h5py"
   ]
  },
  {
   "cell_type": "markdown",
   "metadata": {},
   "source": [
    "## Explore the dataset"
   ]
  },
  {
   "cell_type": "code",
   "execution_count": 3,
   "metadata": {},
   "outputs": [
    {
     "data": {
      "text/html": [
       "<div>\n",
       "<style scoped>\n",
       "    .dataframe tbody tr th:only-of-type {\n",
       "        vertical-align: middle;\n",
       "    }\n",
       "\n",
       "    .dataframe tbody tr th {\n",
       "        vertical-align: top;\n",
       "    }\n",
       "\n",
       "    .dataframe thead th {\n",
       "        text-align: right;\n",
       "    }\n",
       "</style>\n",
       "<table border=\"1\" class=\"dataframe\">\n",
       "  <thead>\n",
       "    <tr style=\"text-align: right;\">\n",
       "      <th></th>\n",
       "      <th>t</th>\n",
       "      <th>I</th>\n",
       "    </tr>\n",
       "  </thead>\n",
       "  <tbody>\n",
       "    <tr>\n",
       "      <th>0</th>\n",
       "      <td>0.038148</td>\n",
       "      <td>0.027355</td>\n",
       "    </tr>\n",
       "    <tr>\n",
       "      <th>1</th>\n",
       "      <td>0.114443</td>\n",
       "      <td>0.032728</td>\n",
       "    </tr>\n",
       "    <tr>\n",
       "      <th>2</th>\n",
       "      <td>0.190738</td>\n",
       "      <td>0.045104</td>\n",
       "    </tr>\n",
       "    <tr>\n",
       "      <th>3</th>\n",
       "      <td>0.267033</td>\n",
       "      <td>0.068821</td>\n",
       "    </tr>\n",
       "    <tr>\n",
       "      <th>4</th>\n",
       "      <td>0.343328</td>\n",
       "      <td>0.110740</td>\n",
       "    </tr>\n",
       "  </tbody>\n",
       "</table>\n",
       "</div>"
      ],
      "text/plain": [
       "          t         I\n",
       "0  0.038148  0.027355\n",
       "1  0.114443  0.032728\n",
       "2  0.190738  0.045104\n",
       "3  0.267033  0.068821\n",
       "4  0.343328  0.110740"
      ]
     },
     "execution_count": 3,
     "metadata": {},
     "output_type": "execute_result"
    }
   ],
   "source": [
    "df = pd.read_csv('Optical_Signal.dat',sep='\\t')\n",
    "df.head()"
   ]
  },
  {
   "cell_type": "code",
   "execution_count": 4,
   "metadata": {},
   "outputs": [
    {
     "data": {
      "text/plain": [
       "(32768, 2)"
      ]
     },
     "execution_count": 4,
     "metadata": {},
     "output_type": "execute_result"
    }
   ],
   "source": [
    "df.shape"
   ]
  },
  {
   "cell_type": "code",
   "execution_count": 5,
   "metadata": {
    "collapsed": true
   },
   "outputs": [],
   "source": [
    "df = df.iloc[0:5000,:]"
   ]
  },
  {
   "cell_type": "code",
   "execution_count": 6,
   "metadata": {
    "collapsed": true
   },
   "outputs": [],
   "source": [
    "t = df.iloc[:,0] #time\n",
    "I = df.iloc[:,1]/df.iloc[:,1].max() #intensity"
   ]
  },
  {
   "cell_type": "code",
   "execution_count": 7,
   "metadata": {},
   "outputs": [
    {
     "data": {
      "image/png": "[encoded data removed]",
      "text/plain": [
       "<matplotlib.figure.Figure at 0x1133e8350>"
      ]
     },
     "metadata": {},
     "output_type": "display_data"
    }
   ],
   "source": [
    "plt.figure(figsize=(12.0,4.0))\n",
    "plt.plot(t, I, c='g')\n",
    "plt.ylabel('Intensity')\n",
    "plt.xlabel('Time')\n",
    "plt.xlim([0,300])\n",
    "plt.show()"
   ]
  },
  {
   "cell_type": "code",
   "execution_count": 8,
   "metadata": {},
   "outputs": [
    {
     "data": {
      "image/png": "[encoded data removed]",
      "text/plain": [
       "<matplotlib.figure.Figure at 0x1200a8350>"
      ]
     },
     "metadata": {},
     "output_type": "display_data"
    }
   ],
   "source": [
    "plt.hist(I, bins=np.linspace(0,1,10), color='blue', ec='black', normed=True)\n",
    "plt.xlabel('Intensity', fontsize=14)\n",
    "plt.ylabel('Probability', fontsize=14)\n",
    "plt.yscale('log')\n",
    "plt.xticks([0.0, 0.2, 0.4, 0.6, 0.8, 1.0])\n",
    "plt.show()"
   ]
  },
  {
   "cell_type": "markdown",
   "metadata": {},
   "source": [
    "## Divide signal in smaller sequences "
   ]
  },
  {
   "cell_type": "code",
   "execution_count": 9,
   "metadata": {},
   "outputs": [
    {
     "data": {
      "text/plain": [
       "0.076295"
      ]
     },
     "execution_count": 9,
     "metadata": {},
     "output_type": "execute_result"
    }
   ],
   "source": [
    "# time step\n",
    "dt = t[1]-t[0]\n",
    "dt"
   ]
  },
  {
   "cell_type": "code",
   "execution_count": 10,
   "metadata": {},
   "outputs": [
    {
     "data": {
      "text/plain": [
       "100"
      ]
     },
     "execution_count": 10,
     "metadata": {},
     "output_type": "execute_result"
    }
   ],
   "source": [
    "# number of points to look back\n",
    "look_back = 100#int(10/dt)\n",
    "look_back"
   ]
  },
  {
   "cell_type": "code",
   "execution_count": 11,
   "metadata": {
    "collapsed": true
   },
   "outputs": [],
   "source": [
    "# crete sequences and next\n",
    "y_seq = []\n",
    "y_next = [] \n",
    "\n",
    "for i in range(len(I)-look_back-1):\n",
    "    y_seq.append(I[i:(i+look_back)])\n",
    "    y_next.append(I[i+look_back])"
   ]
  },
  {
   "cell_type": "code",
   "execution_count": 12,
   "metadata": {},
   "outputs": [
    {
     "data": {
      "text/plain": [
       "(4899, 100)"
      ]
     },
     "execution_count": 12,
     "metadata": {},
     "output_type": "execute_result"
    }
   ],
   "source": [
    "y_seq = np.array(y_seq)\n",
    "y_seq.shape"
   ]
  },
  {
   "cell_type": "code",
   "execution_count": 13,
   "metadata": {},
   "outputs": [
    {
     "data": {
      "text/plain": [
       "(4899,)"
      ]
     },
     "execution_count": 13,
     "metadata": {},
     "output_type": "execute_result"
    }
   ],
   "source": [
    "y_next = np.array(y_next)\n",
    "y_next.shape"
   ]
  },
  {
   "cell_type": "markdown",
   "metadata": {},
   "source": [
    "## Split into train and test sets"
   ]
  },
  {
   "cell_type": "code",
   "execution_count": 14,
   "metadata": {
    "collapsed": true
   },
   "outputs": [],
   "source": [
    "train_size = 3000"
   ]
  },
  {
   "cell_type": "code",
   "execution_count": 15,
   "metadata": {
    "collapsed": true
   },
   "outputs": [],
   "source": [
    "y_seq_train = y_seq[:train_size,:]\n",
    "y_seq_val = y_seq[train_size:train_size+1000,:]\n",
    "y_seq_test = y_seq[train_size+1000:,:]"
   ]
  },
  {
   "cell_type": "code",
   "execution_count": 16,
   "metadata": {
    "collapsed": true
   },
   "outputs": [],
   "source": [
    "y_next_train = y_next[0:train_size]\n",
    "y_next_val = y_next[train_size:train_size+1000]\n",
    "y_next_test = y_next[train_size+1000:]"
   ]
  },
  {
   "cell_type": "markdown",
   "metadata": {},
   "source": [
    "## The model"
   ]
  },
  {
   "cell_type": "code",
   "execution_count": 17,
   "metadata": {},
   "outputs": [],
   "source": [
    "model = Sequential()\n",
    "model.add(Dense(100, activation='relu', input_shape=(look_back,)))\n",
    "model.add(Dense(1, activation='linear'))"
   ]
  },
  {
   "cell_type": "code",
   "execution_count": 18,
   "metadata": {
    "collapsed": true
   },
   "outputs": [],
   "source": [
    "model.compile(loss='mse', optimizer='Adam')"
   ]
  },
  {
   "cell_type": "code",
   "execution_count": 19,
   "metadata": {},
   "outputs": [
    {
     "name": "stdout",
     "output_type": "stream",
     "text": [
      "_________________________________________________________________\n",
      "Layer (type)                 Output Shape              Param #   \n",
      "=================================================================\n",
      "dense (Dense)                (None, 100)               10100     \n",
      "_________________________________________________________________\n",
      "dense_1 (Dense)              (None, 1)                 101       \n",
      "=================================================================\n",
      "Total params: 10,201\n",
      "Trainable params: 10,201\n",
      "Non-trainable params: 0\n",
      "_________________________________________________________________\n"
     ]
    }
   ],
   "source": [
    "model.summary()"
   ]
  },
  {
   "cell_type": "markdown",
   "metadata": {},
   "source": [
    "## Train the model"
   ]
  },
  {
   "cell_type": "code",
   "execution_count": 20,
   "metadata": {
    "collapsed": true
   },
   "outputs": [],
   "source": [
    "callbacks = [EarlyStopping(monitor='val_loss', \n",
    "                           patience=5),\n",
    "             ModelCheckpoint(filepath='best_model.h5', \n",
    "                             monitor='val_loss', \n",
    "                             save_best_only=True)]"
   ]
  },
  {
   "cell_type": "code",
   "execution_count": 21,
   "metadata": {},
   "outputs": [
    {
     "name": "stdout",
     "output_type": "stream",
     "text": [
      "Train on 3000 samples, validate on 1000 samples\n",
      "Epoch 1/20\n",
      "3000/3000 [==============================] - 0s 108us/step - loss: 0.0022 - val_loss: 0.0015\n",
      "Epoch 2/20\n",
      "3000/3000 [==============================] - 0s 23us/step - loss: 0.0010 - val_loss: 0.0011\n",
      "Epoch 3/20\n",
      "3000/3000 [==============================] - 0s 19us/step - loss: 6.8612e-04 - val_loss: 7.6789e-04\n",
      "Epoch 4/20\n",
      "3000/3000 [==============================] - 0s 22us/step - loss: 5.1290e-04 - val_loss: 5.8906e-04\n",
      "Epoch 5/20\n",
      "3000/3000 [==============================] - 0s 22us/step - loss: 4.0766e-04 - val_loss: 5.6135e-04\n",
      "Epoch 6/20\n",
      "3000/3000 [==============================] - 0s 18us/step - loss: 3.5720e-04 - val_loss: 4.7202e-04\n",
      "Epoch 7/20\n",
      "3000/3000 [==============================] - 0s 20us/step - loss: 2.9471e-04 - val_loss: 4.5601e-04\n",
      "Epoch 8/20\n",
      "3000/3000 [==============================] - 0s 18us/step - loss: 2.6807e-04 - val_loss: 4.7198e-04\n",
      "Epoch 9/20\n",
      "3000/3000 [==============================] - 0s 18us/step - loss: 2.5194e-04 - val_loss: 3.7080e-04\n",
      "Epoch 10/20\n",
      "3000/3000 [==============================] - 0s 19us/step - loss: 2.2622e-04 - val_loss: 3.4070e-04\n",
      "Epoch 11/20\n",
      "3000/3000 [==============================] - 0s 21us/step - loss: 1.9503e-04 - val_loss: 3.3470e-04\n",
      "Epoch 12/20\n",
      "3000/3000 [==============================] - 0s 23us/step - loss: 1.8059e-04 - val_loss: 3.5930e-04\n",
      "Epoch 13/20\n",
      "3000/3000 [==============================] - 0s 22us/step - loss: 1.6388e-04 - val_loss: 3.0806e-04\n",
      "Epoch 14/20\n",
      "3000/3000 [==============================] - 0s 23us/step - loss: 1.5246e-04 - val_loss: 3.3645e-04\n",
      "Epoch 15/20\n",
      "3000/3000 [==============================] - 0s 19us/step - loss: 1.3865e-04 - val_loss: 2.7537e-04\n",
      "Epoch 16/20\n",
      "3000/3000 [==============================] - 0s 19us/step - loss: 1.3301e-04 - val_loss: 2.9783e-04\n",
      "Epoch 17/20\n",
      "3000/3000 [==============================] - 0s 19us/step - loss: 1.3411e-04 - val_loss: 3.0503e-04\n",
      "Epoch 18/20\n",
      "3000/3000 [==============================] - 0s 19us/step - loss: 1.1601e-04 - val_loss: 2.6279e-04\n",
      "Epoch 19/20\n",
      "3000/3000 [==============================] - 0s 18us/step - loss: 1.0984e-04 - val_loss: 3.3305e-04\n",
      "Epoch 20/20\n",
      "3000/3000 [==============================] - 0s 18us/step - loss: 1.0328e-04 - val_loss: 2.6873e-04\n"
     ]
    }
   ],
   "source": [
    "history = model.fit(y_seq_train, y_next_train, \n",
    "                    batch_size=100, epochs=20,\n",
    "                    callbacks=callbacks,\n",
    "                    validation_data=(y_seq_val, y_next_val)\n",
    "                   )"
   ]
  },
  {
   "cell_type": "code",
   "execution_count": 22,
   "metadata": {},
   "outputs": [
    {
     "data": {
      "text/plain": [
       "['loss', 'val_loss']"
      ]
     },
     "execution_count": 22,
     "metadata": {},
     "output_type": "execute_result"
    }
   ],
   "source": [
    "history.history.keys()"
   ]
  },
  {
   "cell_type": "code",
   "execution_count": 23,
   "metadata": {},
   "outputs": [
    {
     "data": {
      "image/png": "[encoded data removed]",
      "text/plain": [
       "<matplotlib.figure.Figure at 0x121317050>"
      ]
     },
     "metadata": {},
     "output_type": "display_data"
    }
   ],
   "source": [
    "plt.plot(history.epoch,history.history['loss'], c='b', label='train loss')\n",
    "plt.plot(history.epoch,history.history['val_loss'], c='r', label='val loss')\n",
    "plt.ylabel('loss')\n",
    "plt.xlabel('epoch')\n",
    "plt.legend()\n",
    "plt.show()"
   ]
  },
  {
   "cell_type": "markdown",
   "metadata": {},
   "source": [
    "## Make predictions"
   ]
  },
  {
   "cell_type": "code",
   "execution_count": 24,
   "metadata": {
    "collapsed": true
   },
   "outputs": [],
   "source": [
    "time_train = np.arange(look_back,train_size+look_back)*dt\n",
    "y_next_train_pred = model.predict(y_seq_train)"
   ]
  },
  {
   "cell_type": "code",
   "execution_count": 25,
   "metadata": {
    "collapsed": true
   },
   "outputs": [],
   "source": [
    "time_val = np.arange(look_back+train_size,look_back+train_size+1000)*dt\n",
    "y_next_val_pred = model.predict(y_seq_val)"
   ]
  },
  {
   "cell_type": "code",
   "execution_count": 26,
   "metadata": {
    "collapsed": true
   },
   "outputs": [],
   "source": [
    "time_test = np.arange(look_back+train_size+1000,look_back+y_seq.shape[0])*dt\n",
    "y_next_test_pred = model.predict(y_seq_test)"
   ]
  },
  {
   "cell_type": "code",
   "execution_count": 27,
   "metadata": {},
   "outputs": [
    {
     "data": {
      "text/plain": [
       "2.9012963773733542e-05"
      ]
     },
     "execution_count": 27,
     "metadata": {},
     "output_type": "execute_result"
    }
   ],
   "source": [
    "mean_squared_error(y_next_test, y_next_test_pred)"
   ]
  },
  {
   "cell_type": "code",
   "execution_count": 28,
   "metadata": {},
   "outputs": [
    {
     "data": {
      "image/png": "[encoded data removed]",
      "text/plain": [
       "<matplotlib.figure.Figure at 0x121317190>"
      ]
     },
     "metadata": {},
     "output_type": "display_data"
    }
   ],
   "source": [
    "plt.figure(figsize=(13.0,4.0))\n",
    "plt.plot(t, I, c='g', label='Original data')\n",
    "plt.plot(time_train, y_next_train_pred, c='r', label='Train prediction')\n",
    "plt.plot(time_val, y_next_val_pred, c='b', label='Val prediction')\n",
    "plt.plot(time_test, y_next_test_pred, c='y', label='Test prediction')\n",
    "plt.ylabel('Intensity')\n",
    "plt.xlabel('Time')\n",
    "plt.xlim([0,380])\n",
    "plt.legend()\n",
    "plt.show()"
   ]
  },
  {
   "cell_type": "markdown",
   "metadata": {},
   "source": [
    "## Save the model"
   ]
  },
  {
   "cell_type": "code",
   "execution_count": 29,
   "metadata": {
    "collapsed": true
   },
   "outputs": [],
   "source": [
    "model.save('model.h5')\n",
    "#model2 = load_model('model.h5')\n",
    "#model2..predict(y_seq_test)"
   ]
  }
 ],
 "metadata": {
  "kernelspec": {
   "display_name": "Python 2",
   "language": "python",
   "name": "python2"
  },
  "language_info": {
   "codemirror_mode": {
    "name": "ipython",
    "version": 2
   },
   "file_extension": ".py",
   "mimetype": "text/x-python",
   "name": "python",
   "nbconvert_exporter": "python",
   "pygments_lexer": "ipython2",
   "version": "2.7.10"
  }
 },
 "nbformat": 4,
 "nbformat_minor": 2
}
